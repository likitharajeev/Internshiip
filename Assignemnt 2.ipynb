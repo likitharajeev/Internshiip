{
 "cells": [
  {
   "cell_type": "code",
   "execution_count": 16,
   "id": "2c251a1e",
   "metadata": {},
   "outputs": [
    {
     "name": "stdout",
     "output_type": "stream",
     "text": [
      "Expected output: Python:Excersises:PHP:exercises\n"
     ]
    }
   ],
   "source": [
    "def replace_chars(text):\n",
    "    replaced_text = text.replace(' ',':').replace(',',':').replace('.',':' )\n",
    "    replaced_text = replaced_text.replace('::',':')\n",
    "    return replaced_text \n",
    "\n",
    "sample_text = 'Python Excersises, PHP exercises'\n",
    "result = replace_chars(sample_text)\n",
    "print(\"Expected output:\" , result)"
   ]
  },
  {
   "cell_type": "code",
   "execution_count": 17,
   "id": "3e2b70de",
   "metadata": {},
   "outputs": [
    {
     "name": "stdout",
     "output_type": "stream",
     "text": [
      "             SUMMARY\n",
      "0       hello world \n",
      "1         XXXXX test\n",
      "2  123four five six \n"
     ]
    }
   ],
   "source": [
    "import pandas as pd\n",
    "import re\n",
    "data = {'SUMMARY':['hello, world!', 'XXXXX test', '123four, five:; six...']}\n",
    "\n",
    "df = pd.DataFrame(data)\n",
    "df['SUMMARY'] = df['SUMMARY'].apply(lambda x: re.sub(r'\\W+', ' ', x))\n",
    "print (df)"
   ]
  },
  {
   "cell_type": "code",
   "execution_count": 27,
   "id": "83375fd3",
   "metadata": {},
   "outputs": [
    {
     "name": "stdout",
     "output_type": "stream",
     "text": [
      "['This', 'apple']\n"
     ]
    }
   ],
   "source": [
    "import re \n",
    "\n",
    "def find_long_words(string):\n",
    "    pattern = re.compile(r'\\b\\w{4,}\\b')\n",
    "    \n",
    "    words = pattern.findall(string)\n",
    "    \n",
    "    return words\n",
    "input_string = \"This is an apple\"\n",
    "long_words = find_long_words(input_string)\n",
    "print(long_words)\n",
    "    "
   ]
  },
  {
   "cell_type": "code",
   "execution_count": 40,
   "id": "4b663758",
   "metadata": {},
   "outputs": [
    {
     "name": "stdout",
     "output_type": "stream",
     "text": [
      "[]\n"
     ]
    }
   ],
   "source": [
    "import re\n",
    "\n",
    "def find_specific_length_words(string):\n",
    "    \n",
    "    pattern = re.compile(r'\\b\\w{3,5}\\b')\n",
    "    words = pattern.findall(string)\n",
    "    return words\n",
    "input_string = \"He is a famous dancer.\"\n",
    "specific_length_words = find_specific_length_words(input_string)\n",
    "print(specific_length_words)"
   ]
  },
  {
   "cell_type": "code",
   "execution_count": 44,
   "id": "5d48aa15",
   "metadata": {},
   "outputs": [
    {
     "name": "stdout",
     "output_type": "stream",
     "text": [
      "example\n",
      "hr@fliprobo\n",
      "github.com\n",
      "Hello\n",
      "Data\n"
     ]
    }
   ],
   "source": [
    "import re\n",
    "\n",
    "def remove_parantheses(strings):\n",
    "    pattern = re.compile(r'\\((.*/?)\\)')\n",
    "    modified_strings = []\n",
    "    for string in strings:\n",
    "        modified_string= pattern.sub(' ',string)\n",
    "        modified_strings.append(modified_string.strip())\n",
    "    return modified_strings\n",
    "sample_text = [\"example (.com)\", \"hr@fliprobo (.com)\",\"github.com\",\"Hello(Data Science World)\",\"Data (Scientist)\"]\n",
    "output = remove_parantheses(sample_text)\n",
    "for string in output:\n",
    "        print(string)\n",
    "                     \n",
    "                         "
   ]
  },
  {
   "cell_type": "code",
   "execution_count": 66,
   "id": "2f14fd7a",
   "metadata": {},
   "outputs": [
    {
     "ename": "SyntaxError",
     "evalue": "expected ':' (2405895148.py, line 9)",
     "output_type": "error",
     "traceback": [
      "\u001b[1;36m  Cell \u001b[1;32mIn[66], line 9\u001b[1;36m\u001b[0m\n\u001b[1;33m    with open('sample_text.txt','r')\u001b[0m\n\u001b[1;37m                                    ^\u001b[0m\n\u001b[1;31mSyntaxError\u001b[0m\u001b[1;31m:\u001b[0m expected ':'\n"
     ]
    }
   ],
   "source": [
    "import re \n",
    "\n",
    "def remove_parantheses(text):\n",
    "    pattern = re.compile(r'\\s*\\([^])]*\\)')\n",
    "    \n",
    "    modified_text = pattern.sub(' ',text)\n",
    "    return modified_text.strip()\n",
    "\n",
    "with open('sample_text.txt','r')\n",
    "    original_text = file.read()\n",
    "modified_text = remove_parantheses(original_text)\n",
    "with open('sample_text_modified.txt','w'):\n",
    "     file.write(modified_text)\n",
    "print(\"modified text has been written to 'sample_txt'file.\")"
   ]
  },
  {
   "cell_type": "code",
   "execution_count": 69,
   "id": "32da4779",
   "metadata": {},
   "outputs": [
    {
     "name": "stdout",
     "output_type": "stream",
     "text": [
      "['Importance', 'Of', 'Regular', 'Expression', 'In', 'Python']\n"
     ]
    }
   ],
   "source": [
    "import re \n",
    "\n",
    "def split_uppercase(string):\n",
    "    words = re.findall('[A-Z][^A-Z]*',string)\n",
    "    return words \n",
    "                       \n",
    "sample_text = \"ImportanceOfRegularExpressionInPython\"\n",
    "\n",
    "result = split_uppercase(sample_text)\n",
    "print(result)"
   ]
  },
  {
   "cell_type": "code",
   "execution_count": 74,
   "id": "18edfb27",
   "metadata": {},
   "outputs": [
    {
     "name": "stdout",
     "output_type": "stream",
     "text": [
      "RegularExpression 1IsAN 2ImportantTopic 3InPython\n"
     ]
    }
   ],
   "source": [
    "import re\n",
    "\n",
    "def insert_spaces(string):\n",
    "    modified_string = re.sub(r'(?<=\\D)(?=\\d)',' ',string)\n",
    "    return modified_string\n",
    "    \n",
    "sample_text = \"RegularExpression1IsAN2ImportantTopic3InPython\"\n",
    "\n",
    "\n",
    "result = insert_spaces(sample_text)\n",
    "print(result)"
   ]
  },
  {
   "cell_type": "code",
   "execution_count": 75,
   "id": "615dc853",
   "metadata": {},
   "outputs": [
    {
     "name": "stdout",
     "output_type": "stream",
     "text": [
      "RegularExpression1 IsA N2 ImportantTopic3 InPython\n"
     ]
    }
   ],
   "source": [
    "import re\n",
    "\n",
    "def insert_spaces(string):\n",
    "    modified_string = re.sub(r'(?<=[A-Z0-9])(?=[A-Z])',' ',string)\n",
    "    return modified_string\n",
    "    \n",
    "sample_text = \"RegularExpression1IsAN2ImportantTopic3InPython\"\n",
    "\n",
    "\n",
    "result = insert_spaces(sample_text)\n",
    "print(result)"
   ]
  },
  {
   "cell_type": "code",
   "execution_count": 79,
   "id": "09c49a76",
   "metadata": {},
   "outputs": [
    {
     "name": "stdout",
     "output_type": "stream",
     "text": [
      "       Country          Region  Happiness Rank  Happiness Score  \\\n",
      "0  Switzerland  Western Europe               1            7.587   \n",
      "1      Iceland  Western Europe               2            7.561   \n",
      "2      Denmark  Western Europe               3            7.527   \n",
      "3       Norway  Western Europe               4            7.522   \n",
      "4       Canada   North America               5            7.427   \n",
      "\n",
      "   Standard Error  Economy (GDP per Capita)   Family  \\\n",
      "0         0.03411                   1.39651  1.34951   \n",
      "1         0.04884                   1.30232  1.40223   \n",
      "2         0.03328                   1.32548  1.36058   \n",
      "3         0.03880                   1.45900  1.33095   \n",
      "4         0.03553                   1.32629  1.32261   \n",
      "\n",
      "   Health (Life Expectancy)  Freedom  Trust (Government Corruption)  \\\n",
      "0                   0.94143  0.66557                        0.41978   \n",
      "1                   0.94784  0.62877                        0.14145   \n",
      "2                   0.87464  0.64938                        0.48357   \n",
      "3                   0.88521  0.66973                        0.36503   \n",
      "4                   0.90563  0.63297                        0.32957   \n",
      "\n",
      "   Generosity  Dystopia Residual first_five_letters  \n",
      "0     0.29678            2.51738             Switze  \n",
      "1     0.43630            2.70201             Icelan  \n",
      "2     0.34139            2.49204             Denmar  \n",
      "3     0.34699            2.46531             Norway  \n",
      "4     0.45811            2.45176             Canada  \n"
     ]
    }
   ],
   "source": [
    "import pandas as pd \n",
    "\n",
    "link=\"https://raw.githubusercontent.com/dsrscientist/DSData/master/happiness_score_dataset.csv\"\n",
    "df = pd.read_csv(link)\n",
    "\n",
    "df ['first_five_letters'] = df['Country'].str[:6]\n",
    "\n",
    "print(df.head())\n",
    "        "
   ]
  },
  {
   "cell_type": "code",
   "execution_count": 80,
   "id": "6ccd3aea",
   "metadata": {},
   "outputs": [
    {
     "name": "stdout",
     "output_type": "stream",
     "text": [
      "True\n",
      "False\n",
      "False\n",
      "True\n",
      "False\n"
     ]
    }
   ],
   "source": [
    "import re \n",
    "\n",
    "def match_string(string):\n",
    "    pattern = re.compile(r'^[a-zA-Z0-9_]+$')\n",
    "    \n",
    "    if pattern.match(string):\n",
    "        return True\n",
    "    else:\n",
    "        return False\n",
    "test_string1 = \"Abcd123_\"\n",
    "test_string2 = \"Abcd!@123_\"\n",
    "test_string3 = \"Abcd123!_\"\n",
    "test_string4 = \"Abcd_123\"\n",
    "test_string5 = \"Abcd 123\"\n",
    "\n",
    "print(match_string(test_string1))\n",
    "print(match_string(test_string2))\n",
    "print(match_string(test_string3))\n",
    "print(match_string(test_string4))\n",
    "print(match_string(test_string5))"
   ]
  },
  {
   "cell_type": "code",
   "execution_count": 98,
   "id": "d3cfceb9",
   "metadata": {},
   "outputs": [
    {
     "name": "stdout",
     "output_type": "stream",
     "text": [
      "True\n",
      "False\n",
      "False\n",
      "False\n",
      "False\n"
     ]
    }
   ],
   "source": [
    "def starts_with_number(string, number):\n",
    "    # Convert the number to a string for comparison\n",
    "    number_str = str(number)\n",
    "    \n",
    "    # Check if the string starts with the number\n",
    "    if string.startswith(number_str):\n",
    "        return True\n",
    "    else:\n",
    "        return False\n",
    "\n",
    "# Test the function\n",
    "test_string1 = \"123abc\"\n",
    "test_string2 = \"456def\"\n",
    "test_string3 = \"789ghi\"\n",
    "test_string4 = \"abc123\"\n",
    "test_string5 = \"def456\"\n",
    "\n",
    "number_to_start_with = 123\n",
    "\n",
    "print(starts_with_number(test_string1, number_to_start_with))  \n",
    "print(starts_with_number(test_string2, number_to_start_with))  \n",
    "print(starts_with_number(test_string3, number_to_start_with))  \n",
    "print(starts_with_number(test_string4, number_to_start_with)\n",
    "print(starts_with_number(test_string5, number_to_start_with))  \n"
   ]
  },
  {
   "cell_type": "code",
   "execution_count": 101,
   "id": "a195bf80",
   "metadata": {},
   "outputs": [
    {
     "name": "stdout",
     "output_type": "stream",
     "text": [
      "Original IP address: 192.168.001.001\n",
      "Modified IP address: 192.168.1.1\n"
     ]
    }
   ],
   "source": [
    "def remove_leading_zeros(ip_address):\n",
    "    \n",
    "    octets = ip_address.split('.')\n",
    "    \n",
    "\n",
    "    octets = [str(int(octet)) for octet in octets]\n",
    "    \n",
    "    modified_ip_address = '.'.join(octets)\n",
    "    \n",
    "    return modified_ip_address\n",
    "\n",
    "ip_address = \"192.168.001.001\"\n",
    "modified_ip_address = remove_leading_zeros(ip_address)\n",
    "print(\"Original IP address:\", ip_address)\n",
    "print(\"Modified IP address:\", modified_ip_address)"
   ]
  },
  {
   "cell_type": "code",
   "execution_count": 105,
   "id": "3a70774d",
   "metadata": {},
   "outputs": [
    {
     "ename": "FileNotFoundError",
     "evalue": "[Errno 2] No such file or directory: 'sample_text.txt'",
     "output_type": "error",
     "traceback": [
      "\u001b[1;31m---------------------------------------------------------------------------\u001b[0m",
      "\u001b[1;31mFileNotFoundError\u001b[0m                         Traceback (most recent call last)",
      "Cell \u001b[1;32mIn[105], line 3\u001b[0m\n\u001b[0;32m      1\u001b[0m \u001b[38;5;28;01mimport\u001b[39;00m \u001b[38;5;21;01mre\u001b[39;00m\n\u001b[1;32m----> 3\u001b[0m \u001b[38;5;28;01mwith\u001b[39;00m \u001b[38;5;28;43mopen\u001b[39;49m\u001b[43m(\u001b[49m\u001b[38;5;124;43m'\u001b[39;49m\u001b[38;5;124;43msample_text.txt\u001b[39;49m\u001b[38;5;124;43m'\u001b[39;49m\u001b[43m,\u001b[49m\u001b[43m \u001b[49m\u001b[38;5;124;43m'\u001b[39;49m\u001b[38;5;124;43mr\u001b[39;49m\u001b[38;5;124;43m'\u001b[39;49m\u001b[43m)\u001b[49m:\n\u001b[0;32m      4\u001b[0m     text \u001b[38;5;241m=\u001b[39m file\u001b[38;5;241m.\u001b[39mread()\n\u001b[0;32m      7\u001b[0m pattern \u001b[38;5;241m=\u001b[39m \u001b[38;5;124mr\u001b[39m\u001b[38;5;124m'\u001b[39m\u001b[38;5;124m\\\u001b[39m\u001b[38;5;124mb(?:January|February|March|April|May|June|July|August|September|October|November|December)\u001b[39m\u001b[38;5;124m\\\u001b[39m\u001b[38;5;124ms+\u001b[39m\u001b[38;5;124m\\\u001b[39m\u001b[38;5;124md\u001b[39m\u001b[38;5;124m{\u001b[39m\u001b[38;5;124m1,2}(?:st|nd|rd|th)?\u001b[39m\u001b[38;5;124m\\\u001b[39m\u001b[38;5;124ms+\u001b[39m\u001b[38;5;124m\\\u001b[39m\u001b[38;5;124md\u001b[39m\u001b[38;5;132;01m{4}\u001b[39;00m\u001b[38;5;124m\\\u001b[39m\u001b[38;5;124mb\u001b[39m\u001b[38;5;124m'\u001b[39m\n",
      "File \u001b[1;32m~\\anaconda3\\lib\\site-packages\\IPython\\core\\interactiveshell.py:282\u001b[0m, in \u001b[0;36m_modified_open\u001b[1;34m(file, *args, **kwargs)\u001b[0m\n\u001b[0;32m    275\u001b[0m \u001b[38;5;28;01mif\u001b[39;00m file \u001b[38;5;129;01min\u001b[39;00m {\u001b[38;5;241m0\u001b[39m, \u001b[38;5;241m1\u001b[39m, \u001b[38;5;241m2\u001b[39m}:\n\u001b[0;32m    276\u001b[0m     \u001b[38;5;28;01mraise\u001b[39;00m \u001b[38;5;167;01mValueError\u001b[39;00m(\n\u001b[0;32m    277\u001b[0m         \u001b[38;5;124mf\u001b[39m\u001b[38;5;124m\"\u001b[39m\u001b[38;5;124mIPython won\u001b[39m\u001b[38;5;124m'\u001b[39m\u001b[38;5;124mt let you open fd=\u001b[39m\u001b[38;5;132;01m{\u001b[39;00mfile\u001b[38;5;132;01m}\u001b[39;00m\u001b[38;5;124m by default \u001b[39m\u001b[38;5;124m\"\u001b[39m\n\u001b[0;32m    278\u001b[0m         \u001b[38;5;124m\"\u001b[39m\u001b[38;5;124mas it is likely to crash IPython. If you know what you are doing, \u001b[39m\u001b[38;5;124m\"\u001b[39m\n\u001b[0;32m    279\u001b[0m         \u001b[38;5;124m\"\u001b[39m\u001b[38;5;124myou can use builtins\u001b[39m\u001b[38;5;124m'\u001b[39m\u001b[38;5;124m open.\u001b[39m\u001b[38;5;124m\"\u001b[39m\n\u001b[0;32m    280\u001b[0m     )\n\u001b[1;32m--> 282\u001b[0m \u001b[38;5;28;01mreturn\u001b[39;00m io_open(file, \u001b[38;5;241m*\u001b[39margs, \u001b[38;5;241m*\u001b[39m\u001b[38;5;241m*\u001b[39mkwargs)\n",
      "\u001b[1;31mFileNotFoundError\u001b[0m: [Errno 2] No such file or directory: 'sample_text.txt'"
     ]
    }
   ],
   "source": [
    "import re\n",
    "\n",
    "with open('sample_text.txt', 'r'):\n",
    "    text = file.read()\n",
    "\n",
    "\n",
    "pattern = r'\\b(?:January|February|March|April|May|June|July|August|September|October|November|December)\\s+\\d{1,2}(?:st|nd|rd|th)?\\s+\\d{4}\\b'\n",
    "\n",
    "matches = re.search(pattern, text)\n",
    "\n",
    "\n",
    "if matches:\n",
    "    print(\"Matched date string:\", matches.group())\n",
    "else:\n",
    "    print(\"No date string found in the text.\")"
   ]
  },
  {
   "cell_type": "code",
   "execution_count": 106,
   "id": "801df05d",
   "metadata": {},
   "outputs": [
    {
     "name": "stdout",
     "output_type": "stream",
     "text": [
      "Found words: ['fox', 'dog']\n"
     ]
    }
   ],
   "source": [
    "def search_words(text, words):\n",
    "    found_words = []\n",
    "    for word in words:\n",
    "        if word in text:\n",
    "            found_words.append(word)\n",
    "    return found_words\n",
    "\n",
    "sample_text = 'The quick brown fox jumps over the lazy dog.'\n",
    "searched_words = ['fox', 'dog', 'horse']\n",
    "\n",
    "found_words = search_words(sample_text, searched_words)\n",
    "\n",
    "print(\"Found words:\", found_words)"
   ]
  },
  {
   "cell_type": "code",
   "execution_count": 107,
   "id": "d9a3c6f7",
   "metadata": {},
   "outputs": [
    {
     "name": "stdout",
     "output_type": "stream",
     "text": [
      "'fox' found at position 16 in the text.\n"
     ]
    }
   ],
   "source": [
    "def search_word_location(text, word):\n",
    "    location = text.find(word)\n",
    "    if location != -1:\n",
    "        return f\"'{word}' found at position {location} in the text.\"\n",
    "    else:\n",
    "        return f\"'{word}' not found in the text.\"\n",
    "\n",
    "sample_text = 'The quick brown fox jumps over the lazy dog.'\n",
    "searched_word = 'fox'\n",
    "\n",
    "result = search_word_location(sample_text, searched_word)\n",
    "print(result)"
   ]
  },
  {
   "cell_type": "code",
   "execution_count": 108,
   "id": "2da34b78",
   "metadata": {},
   "outputs": [
    {
     "name": "stdout",
     "output_type": "stream",
     "text": [
      "Pattern 'exercises' found at positions: [7, 22, 36]\n"
     ]
    }
   ],
   "source": [
    "def find_substrings(text, pattern):\n",
    "    start = 0\n",
    "    occurrences = []\n",
    "    while True:\n",
    "        start = text.find(pattern, start)\n",
    "        if start == -1:\n",
    "            break\n",
    "        occurrences.append(start)\n",
    "        start += 1\n",
    "    return occurrences\n",
    "\n",
    "sample_text = 'Python exercises, PHP exercises, C# exercises'\n",
    "pattern = 'exercises'\n",
    "\n",
    "found_occurrences = find_substrings(sample_text, pattern)\n",
    "\n",
    "if found_occurrences:\n",
    "    print(f\"Pattern '{pattern}' found at positions:\", found_occurrences)\n",
    "else:\n",
    "    print(f\"Pattern '{pattern}' not found in the text.\")"
   ]
  },
  {
   "cell_type": "code",
   "execution_count": 111,
   "id": "e90e5679",
   "metadata": {},
   "outputs": [
    {
     "name": "stdout",
     "output_type": "stream",
     "text": [
      "Pattern 'exercises' found 3 times at positions:\n",
      "Occurrence 1: 7\n",
      "Occurrence 2: 22\n",
      "Occurrence 3: 36\n"
     ]
    }
   ],
   "source": [
    "def find_substrings(text, pattern):\n",
    "    start = 0\n",
    "    occurrences = []\n",
    "    while True:\n",
    "        start = text.find(pattern, start)\n",
    "        if start == -1:\n",
    "            break\n",
    "        occurrences.append(start)\n",
    "        start += 1\n",
    "    return occurrences\n",
    "\n",
    "def find_occurrence_and_position(text, pattern):\n",
    "    occurrences = find_substrings(text, pattern)\n",
    "    if occurrences:\n",
    "        print(f\"Pattern '{pattern}' found {len(occurrences)} times at positions:\")\n",
    "        for index, pos in enumerate(occurrences, start=1):\n",
    "            print(f\"Occurrence {index}: {pos}\")\n",
    "    else:\n",
    "        print(f\"Pattern '{pattern}' not found in the text.\")\n",
    "\n",
    "sample_text = 'Python exercises, PHP exercises, C# exercises'\n",
    "pattern = 'exercises'\n",
    "\n",
    "find_occurrence_and_position(sample_text, pattern)\n"
   ]
  },
  {
   "cell_type": "code",
   "execution_count": 113,
   "id": "aa79b6e1",
   "metadata": {},
   "outputs": [
    {
     "name": "stdout",
     "output_type": "stream",
     "text": [
      "Decimal numbers with precision of 1 or 2: ['01.12', '145.8', '3.01', '27.25', '0.25']\n"
     ]
    }
   ],
   "source": [
    "import re\n",
    "\n",
    "def find_decimal_numbers(text):\n",
    "    pattern = re.compile(r'\\b\\d+\\.\\d{1,2}\\b')\n",
    "    return pattern.findall(text)\n",
    "\n",
    "sample_text = \"01.12 0132.123 2.31875 145.8 3.01 27.25 0.25\"\n",
    "result = find_decimal_numbers(sample_text)\n",
    "print(\"Decimal numbers with precision of 1 or 2:\", result)"
   ]
  },
  {
   "cell_type": "code",
   "execution_count": 114,
   "id": "d8983c16",
   "metadata": {},
   "outputs": [
    {
     "name": "stdout",
     "output_type": "stream",
     "text": [
      "Maximum numeric value: 950\n"
     ]
    }
   ],
   "source": [
    "import re\n",
    "\n",
    "def extract_maximum_numeric_value(text):\n",
    "    numeric_values = re.findall(r'\\d+', text)\n",
    "    if numeric_values:\n",
    "        return max(map(int, numeric_values))\n",
    "    else:\n",
    "        return None\n",
    "\n",
    "sample_text = 'My marks in each semester are: 947, 896, 926, 524, 734, 950, 642'\n",
    "max_value = extract_maximum_numeric_value(sample_text)\n",
    "print(\"Maximum numeric value:\", max_value)"
   ]
  },
  {
   "cell_type": "code",
   "execution_count": 115,
   "id": "18c74771",
   "metadata": {},
   "outputs": [
    {
     "name": "stdout",
     "output_type": "stream",
     "text": [
      "Expected Output: Regular Expression Is An Important Topic In Python\n"
     ]
    }
   ],
   "source": [
    "import re\n",
    "\n",
    "def insert_spaces(text):\n",
    "   \n",
    "    words = re.findall('[A-Z][^A-Z]*', text)\n",
    "   \n",
    "    return ' '.join(words)\n",
    "\n",
    "sample_text = \"RegularExpressionIsAnImportantTopicInPython\"\n",
    "result = insert_spaces(sample_text)\n",
    "print(\"Expected Output:\", result)"
   ]
  },
  {
   "cell_type": "code",
   "execution_count": 116,
   "id": "0105f684",
   "metadata": {},
   "outputs": [
    {
     "name": "stdout",
     "output_type": "stream",
     "text": [
      "Expected Output: Hello hello world\n"
     ]
    }
   ],
   "source": [
    "import re\n",
    "\n",
    "def remove_continuous_duplicates(text):\n",
    "   \n",
    "    pattern = r'\\b(\\w+)(\\s+\\1)+\\b'\n",
    "    \n",
    "    result = re.sub(pattern, r'\\1', text)\n",
    "    return result\n",
    "\n",
    "sample_text = \"Hello hello world world\"\n",
    "result = remove_continuous_duplicates(sample_text)\n",
    "print(\"Expected Output:\", result)"
   ]
  }
 ],
 "metadata": {
  "kernelspec": {
   "display_name": "Python 3 (ipykernel)",
   "language": "python",
   "name": "python3"
  },
  "language_info": {
   "codemirror_mode": {
    "name": "ipython",
    "version": 3
   },
   "file_extension": ".py",
   "mimetype": "text/x-python",
   "name": "python",
   "nbconvert_exporter": "python",
   "pygments_lexer": "ipython3",
   "version": "3.10.9"
  }
 },
 "nbformat": 4,
 "nbformat_minor": 5
}
